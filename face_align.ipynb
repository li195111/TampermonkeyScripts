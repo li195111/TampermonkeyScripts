{
 "cells": [
  {
   "cell_type": "code",
   "execution_count": 1,
   "metadata": {},
   "outputs": [],
   "source": [
    "import os\n",
    "import glob\n",
    "from pathlib import Path\n",
    "from tqdm.notebook import tqdm"
   ]
  },
  {
   "cell_type": "code",
   "execution_count": 2,
   "metadata": {},
   "outputs": [],
   "source": [
    "from ffhq_dataset.face_alignment import image_align\n",
    "from ffhq_dataset.landmarks_detector import LandmarksDetector\n",
    "from PIL import Image"
   ]
  },
  {
   "cell_type": "code",
   "execution_count": 3,
   "metadata": {},
   "outputs": [],
   "source": [
    "root_dir = 'G:/Programing/Projects/Project.Others/jupyter'\n",
    "img_dirs = glob.glob(f'{root_dir}/ig_trinityliao', recursive=True)\n",
    "ACCEPT_SUFFIXS = ['jpg','png']\n",
    "ACCEPT_SUFFIXS += [suffix.upper() for suffix in ACCEPT_SUFFIXS]\n",
    "images = {}\n",
    "for img_dir in img_dirs:\n",
    "  name = os.path.basename(img_dir).replace('ig_','')\n",
    "  img_paths = []\n",
    "  for suffix in ACCEPT_SUFFIXS:\n",
    "    img_paths.extend(glob.glob(f'{img_dir}/*.{suffix}'))\n",
    "  images[name] = img_paths"
   ]
  },
  {
   "cell_type": "code",
   "execution_count": 7,
   "metadata": {},
   "outputs": [
    {
     "name": "stdout",
     "output_type": "stream",
     "text": [
      "Progress: 100.0 %\r"
     ]
    }
   ],
   "source": [
    "LANDMARKS_MODEL_PATH = 'G:/Dataset/Facelandmark/shape_predictor_68_face_landmarks.dat'\n",
    "landmarks_detector = LandmarksDetector(LANDMARKS_MODEL_PATH)\n",
    "\n",
    "aligneds = {}\n",
    "for name, img_paths in images.items():\n",
    "  aligned_imgs = []\n",
    "  for img_idx, raw_img_path in enumerate(img_paths):\n",
    "    pct = (img_idx+1)*100/len(img_paths)\n",
    "    print(f'Progress: {pct:.1f} %', end='\\r')\n",
    "    for face_landmarks in landmarks_detector.get_landmarks(raw_img_path):\n",
    "      aligned = image_align(src_file=raw_img_path,dst_file=None,face_landmarks=face_landmarks,output_size=256)\n",
    "      aligned_imgs.append(aligned)\n",
    "  aligneds[name] = aligned_imgs"
   ]
  },
  {
   "cell_type": "code",
   "execution_count": 11,
   "metadata": {},
   "outputs": [],
   "source": [
    "from IPython.display import display, clear_output\n",
    "\n",
    "for name, aligned_imgs in aligneds.items():\n",
    "  for aligned in aligned_imgs:\n",
    "    pass"
   ]
  },
  {
   "cell_type": "code",
   "execution_count": null,
   "metadata": {},
   "outputs": [],
   "source": []
  }
 ],
 "metadata": {
  "kernelspec": {
   "display_name": "Python 3.10.4",
   "language": "python",
   "name": "python3"
  },
  "language_info": {
   "codemirror_mode": {
    "name": "ipython",
    "version": 3
   },
   "file_extension": ".py",
   "mimetype": "text/x-python",
   "name": "python",
   "nbconvert_exporter": "python",
   "pygments_lexer": "ipython3",
   "version": "3.10.4"
  },
  "orig_nbformat": 4,
  "vscode": {
   "interpreter": {
    "hash": "3e336d308ce34e8e995cd10b2617451180bb99b5025ef64809f3eb3e02805e42"
   }
  }
 },
 "nbformat": 4,
 "nbformat_minor": 2
}
